{
 "cells": [
  {
   "cell_type": "code",
   "execution_count": 57,
   "id": "c6d453b9-d2a9-4c92-a48d-d2c9cc70bc3d",
   "metadata": {},
   "outputs": [],
   "source": [
    "import whisper"
   ]
  },
  {
   "cell_type": "code",
   "execution_count": 58,
   "id": "de880f6d-3c65-4e67-a330-3d01d57b1db5",
   "metadata": {},
   "outputs": [],
   "source": [
    "# Load the model \n",
    "model = whisper.load_model(\"base\")"
   ]
  },
  {
   "cell_type": "code",
   "execution_count": 59,
   "id": "f40d8e5d-3c57-43c2-9fbd-42f8137fe3fc",
   "metadata": {},
   "outputs": [
    {
     "name": "stderr",
     "output_type": "stream",
     "text": [
      "C:\\Users\\kanch\\sftwtrs\\lib\\site-packages\\whisper\\transcribe.py:126: UserWarning: FP16 is not supported on CPU; using FP32 instead\n",
      "  warnings.warn(\"FP16 is not supported on CPU; using FP32 instead\")\n"
     ]
    }
   ],
   "source": [
    "result = model.transcribe(r\"C:\\Users\\kanch\\Downloads\\audio 2.mp3\", task=\"translate\")"
   ]
  },
  {
   "cell_type": "code",
   "execution_count": 60,
   "id": "9045a05e-d31f-4c6a-8033-83c1942ee143",
   "metadata": {},
   "outputs": [
    {
     "name": "stdout",
     "output_type": "stream",
     "text": [
      "\n",
      "Romanized Hindi Transcription\n",
      " He was not able to use the two legs. So he didn't know where he was. He was hit by someone or someone else. But he didn't even have blood loss. He didn't have the dog. He went to Amit Sar. Amit Sar took him to the gym. He took all the stuff he had. Amit Sar didn't even understand what he said. He said he is a bad man. He is only a pair of men. He didn't have the blood loss. He didn't have the blood loss. He took him to the gym. He gave him the paint. He was resting. He didn't eat anything. He didn't eat anything. He just had to eat.\n"
     ]
    }
   ],
   "source": [
    "# Print full transcription\n",
    "transcribed_text = result[\"text\"]\n",
    "print(\"\\nRomanized Hindi Transcription\")\n",
    "print(transcribed_text)"
   ]
  },
  {
   "cell_type": "code",
   "execution_count": 61,
   "id": "9736b347-045b-4d49-b645-b3395a324b28",
   "metadata": {},
   "outputs": [
    {
     "name": "stdout",
     "output_type": "stream",
     "text": [
      "\n",
      " Segments with Timestamps\n",
      "[0.0s - 3.0s]  He was not able to use the two legs.\n",
      "[3.0s - 4.0s]  So he didn't know where he was.\n",
      "[4.0s - 8.0s]  He was hit by someone or someone else.\n",
      "[8.0s - 10.0s]  But he didn't even have blood loss.\n",
      "[10.0s - 12.0s]  He didn't have the dog.\n",
      "[12.0s - 14.0s]  He went to Amit Sar.\n",
      "[14.0s - 18.0s]  Amit Sar took him to the gym.\n",
      "[18.0s - 20.0s]  He took all the stuff he had.\n",
      "[20.0s - 24.0s]  Amit Sar didn't even understand what he said.\n",
      "[24.0s - 26.0s]  He said he is a bad man.\n",
      "[26.0s - 28.0s]  He is only a pair of men.\n",
      "[28.0s - 30.0s]  He didn't have the blood loss.\n",
      "[30.0s - 32.0s]  He didn't have the blood loss.\n",
      "[32.0s - 34.0s]  He took him to the gym.\n",
      "[34.0s - 36.0s]  He gave him the paint.\n",
      "[36.0s - 38.0s]  He was resting.\n",
      "[38.0s - 40.0s]  He didn't eat anything.\n",
      "[40.0s - 42.0s]  He didn't eat anything.\n",
      "[42.0s - 44.0s]  He just had to eat.\n"
     ]
    }
   ],
   "source": [
    "# Print segment-wise with timestamps\n",
    "print(\"\\n Segments with Timestamps\")\n",
    "for segment in result[\"segments\"]:\n",
    "    start = round(segment[\"start\"], 2)\n",
    "    end = round(segment[\"end\"], 2)\n",
    "    text = segment[\"text\"].strip()\n",
    "    print(f\"[{start}s - {end}s]  {text}\")"
   ]
  },
  {
   "cell_type": "code",
   "execution_count": 62,
   "id": "e38ff113-c742-490b-9208-7a69d43d4b0e",
   "metadata": {},
   "outputs": [],
   "source": [
    "# Load KeyBERT model\n",
    "from keybert import KeyBERT\n",
    "kw_model = KeyBERT()"
   ]
  },
  {
   "cell_type": "code",
   "execution_count": 63,
   "id": "2bff11cc-9be9-4e55-9f15-fcaf6c127bb6",
   "metadata": {},
   "outputs": [],
   "source": [
    "# Extract key topics (keywords/phrases)\n",
    "keywords = kw_model.extract_keywords(transcribed_text, keyphrase_ngram_range=(1, 2), stop_words='english', top_n=10)"
   ]
  },
  {
   "cell_type": "code",
   "execution_count": 64,
   "id": "f665287b-c792-466a-afb7-a9c1d802828c",
   "metadata": {},
   "outputs": [
    {
     "name": "stdout",
     "output_type": "stream",
     "text": [
      "\n",
      " Key Topics\n",
      "- sar took (Score: 0.39)\n",
      "- sar didn (Score: 0.38)\n",
      "- blood loss (Score: 0.38)\n",
      "- legs didn (Score: 0.38)\n",
      "- didn eat (Score: 0.38)\n",
      "- didn blood (Score: 0.38)\n",
      "- dog went (Score: 0.36)\n",
      "- blood (Score: 0.36)\n",
      "- sar amit (Score: 0.34)\n",
      "- amit sar (Score: 0.34)\n"
     ]
    }
   ],
   "source": [
    "# Print key topics\n",
    "print(\"\\n Key Topics\")\n",
    "for kw in keywords:\n",
    "    print(f\"- {kw[0]} (Score: {kw[1]:.2f})\")"
   ]
  },
  {
   "cell_type": "code",
   "execution_count": 65,
   "id": "1db2e83b-1b32-4d37-9887-9793c5b812c9",
   "metadata": {},
   "outputs": [
    {
     "name": "stderr",
     "output_type": "stream",
     "text": [
      "No model was supplied, defaulted to distilbert/distilbert-base-uncased-finetuned-sst-2-english and revision 714eb0f (https://huggingface.co/distilbert/distilbert-base-uncased-finetuned-sst-2-english).\n",
      "Using a pipeline without specifying a model name and revision in production is not recommended.\n"
     ]
    },
    {
     "name": "stdout",
     "output_type": "stream",
     "text": [
      "\n",
      " Sentiment Analysis\n"
     ]
    },
    {
     "name": "stderr",
     "output_type": "stream",
     "text": [
      "Device set to use cpu\n"
     ]
    }
   ],
   "source": [
    "# Sentiment Analysis using Hugging Face Transformers\n",
    "from transformers import pipeline\n",
    "\n",
    "print(\"\\n Sentiment Analysis\")\n",
    "classifier = pipeline(\"sentiment-analysis\")"
   ]
  },
  {
   "cell_type": "code",
   "execution_count": 66,
   "id": "4deb08b9-e1f7-4ad8-9c6c-7827356b52a6",
   "metadata": {},
   "outputs": [
    {
     "name": "stdout",
     "output_type": "stream",
     "text": [
      "Overall Sentiment: NEGATIVE (Score: 0.99)\n"
     ]
    }
   ],
   "source": [
    "# Full text sentiment\n",
    "sentiment = classifier(transcribed_text[:512])  # Max 512 tokens at once\n",
    "print(f\"Overall Sentiment: {sentiment[0]['label']} (Score: {sentiment[0]['score']:.2f})\")\n"
   ]
  },
  {
   "cell_type": "code",
   "execution_count": 67,
   "id": "76546744-cec0-40e5-8053-bb14668e5d88",
   "metadata": {},
   "outputs": [
    {
     "name": "stderr",
     "output_type": "stream",
     "text": [
      "Device set to use cpu\n"
     ]
    }
   ],
   "source": [
    "# Load the summarization model\n",
    "summarizer = pipeline(\"summarization\", model=\"sshleifer/distilbart-cnn-12-6\")"
   ]
  },
  {
   "cell_type": "code",
   "execution_count": 74,
   "id": "5f035a68-0ecc-4e38-baaa-c247fce59134",
   "metadata": {},
   "outputs": [],
   "source": [
    "#Summary generate karo\n",
    "summary_output = summarizer(transcribed_text, max_length=100, min_length=20, do_sample=False)"
   ]
  },
  {
   "cell_type": "code",
   "execution_count": 75,
   "id": "a9d8c310-59dd-4c42-97ff-a7a2a3e3a443",
   "metadata": {},
   "outputs": [],
   "source": [
    "# Result ko extract karo\n",
    "summary_text = summary_output[0]['summary_text']"
   ]
  },
  {
   "cell_type": "code",
   "execution_count": 76,
   "id": "199d5357-880e-47c3-8447-299f13719908",
   "metadata": {},
   "outputs": [],
   "source": [
    "# Save to file\n",
    "with open(\"summary.txt\", \"w\", encoding=\"utf-8\") as f:\n",
    "    f.write(summary_text)"
   ]
  },
  {
   "cell_type": "code",
   "execution_count": null,
   "id": "42de6b15-6667-4953-bc88-d146f413e8fe",
   "metadata": {},
   "outputs": [],
   "source": []
  },
  {
   "cell_type": "code",
   "execution_count": 77,
   "id": "39619afa-c0ad-4a55-9901-86dc0af5664e",
   "metadata": {},
   "outputs": [
    {
     "name": "stdout",
     "output_type": "stream",
     "text": [
      "Summary:  He was not able to use the two legs so he didn't know where he was . He was hit by someone or someone else. He didn't even have blood loss. He went to Amit Sar. Amit Sar took him to the gym. He took all the stuff he had. He said he is a bad man. He is only a pair of men.\n"
     ]
    }
   ],
   "source": [
    "# For short transcriptions, this will work directly:\n",
    "summary = summarizer(transcribed_text[:1024], max_length=130, min_length=30, do_sample=False)\n",
    "\n",
    "print(f\"Summary: {summary[0]['summary_text']}\")"
   ]
  },
  {
   "cell_type": "code",
   "execution_count": 78,
   "id": "a75842e1-fb63-400b-b358-f55bf72c84c3",
   "metadata": {},
   "outputs": [],
   "source": [
    "with open(\"transcription.txt\", \"w\", encoding=\"utf-8\") as f:\n",
    "    f.write(transcribed_text)\n"
   ]
  },
  {
   "cell_type": "code",
   "execution_count": 79,
   "id": "09991c67-ac1c-4bd1-b26c-93096f28b1a1",
   "metadata": {},
   "outputs": [],
   "source": [
    "with open(\"keywords.txt\", \"w\", encoding=\"utf-8\") as f:\n",
    "    for keyword in keywords:\n",
    "        f.write(f\"{keyword}\\n\")\n",
    "\n"
   ]
  },
  {
   "cell_type": "code",
   "execution_count": 81,
   "id": "3c2dd66a-ea46-4d4e-bb46-b93f7706d771",
   "metadata": {},
   "outputs": [],
   "source": [
    "with open(\"summary.txt\", \"w\", encoding=\"utf-8\") as f:\n",
    "    f.write(summary_text)\n"
   ]
  },
  {
   "cell_type": "code",
   "execution_count": 82,
   "id": "f92ec500-36ef-49a6-9c42-7abc635cc265",
   "metadata": {},
   "outputs": [],
   "source": [
    "import json\n",
    "\n",
    "data = {\n",
    "    \"transcription\": transcribed_text,\n",
    "    \"keywords\": keywords,\n",
    "    \"sentiment\": sentiment,\n",
    "    \"summary\": summary_text\n",
    "}\n",
    "\n",
    "with open(\"result.json\", \"w\", encoding=\"utf-8\") as f:\n",
    "    json.dump(data, f, ensure_ascii=False, indent=4)\n"
   ]
  },
  {
   "cell_type": "code",
   "execution_count": null,
   "id": "2a884add-fdbe-4b58-a2c9-da91630950f7",
   "metadata": {},
   "outputs": [],
   "source": []
  }
 ],
 "metadata": {
  "kernelspec": {
   "display_name": "Python 3 (ipykernel)",
   "language": "python",
   "name": "python3"
  },
  "language_info": {
   "codemirror_mode": {
    "name": "ipython",
    "version": 3
   },
   "file_extension": ".py",
   "mimetype": "text/x-python",
   "name": "python",
   "nbconvert_exporter": "python",
   "pygments_lexer": "ipython3",
   "version": "3.10.0"
  }
 },
 "nbformat": 4,
 "nbformat_minor": 5
}
